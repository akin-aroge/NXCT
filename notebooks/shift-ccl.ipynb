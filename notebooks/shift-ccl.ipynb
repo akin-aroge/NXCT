{
 "cells": [
  {
   "cell_type": "markdown",
   "id": "ecd8d9ac-b4b8-4c26-8b06-d18b6c0ebb63",
   "metadata": {
    "deletable": false,
    "editable": false,
    "tags": []
   },
   "source": [
    "# Shift CCL\n",
    "\n",
    "\n",
    "\n",
    "This notebook consists of cells that can be used to shift the cathode catalyst layer\n",
    "\n",
    "**Usage**: Click on the play button above and enter the relevant inputs when prompted, followed by the enter key.\n",
    "  \n",
    "**output**: a \".tif\" file with the CCL shifted as specified saved in the provided directory\n",
    "\n",
    "\n",
    "\n",
    "- author: Akin Aroge\n",
    "- email: arogeakindele@gmail.com\n",
    "- version: 0.1\n",
    "- created: 14-10-2022"
   ]
  },
  {
   "cell_type": "code",
   "execution_count": 8,
   "id": "7d2912ed-d05d-4726-a00d-e342cf88c1d1",
   "metadata": {
    "deletable": false,
    "editable": false,
    "tags": []
   },
   "outputs": [
    {
     "name": "stdin",
     "output_type": "stream",
     "text": [
      "Enter the containing folder of the image (full path): C:\\Users\\Aroge\\Desktop\\junk\n",
      "Enter the CCL file name (including extension, e.g 'image.tiff'): AnodeRemoved.tif\n",
      "Enter the value of the shift:  6\n"
     ]
    },
    {
     "name": "stderr",
     "output_type": "stream",
     "text": [
      "C:\\Users\\Aroge\\anaconda3\\envs\\phd-im\\lib\\site-packages\\ipykernel_launcher.py:16: UserWarning: C:\\Users\\Aroge\\Desktop\\junk\\acl_as_shited_ccl.tif is a low contrast image\n",
      "  app.launch_new_instance()\n"
     ]
    }
   ],
   "source": [
    "from skimage.io import imread, imsave\n",
    "import imaging as ig\n",
    "import os\n",
    "\n",
    "\n",
    "\n",
    "f_dir = str(input('Enter the containing folder of the image (full path):'))\n",
    "fname = str(input(\"Enter the CCL file name (including extension, e.g 'image.tiff'):\"))\n",
    "shift = int(input('Enter the value of the shift: '))\n",
    "\n",
    "im_path = os.path.join(f_dir, fname)\n",
    "im = imread(im_path)\n",
    "\n",
    "im_shifted = ig.select_tools.shift_ccl(im=im, shift=shift)\n",
    "\n",
    "imsave(os.path.join(f_dir, 'acl_as_shifted_ccl.tif'), im_shifted)"
   ]
  }
 ],
 "metadata": {
  "kernelspec": {
   "display_name": "Python [conda env:phd-im] *",
   "language": "python",
   "name": "conda-env-phd-im-py"
  },
  "language_info": {
   "codemirror_mode": {
    "name": "ipython",
    "version": 3
   },
   "file_extension": ".py",
   "mimetype": "text/x-python",
   "name": "python",
   "nbconvert_exporter": "python",
   "pygments_lexer": "ipython3",
   "version": "3.7.10"
  }
 },
 "nbformat": 4,
 "nbformat_minor": 5
}
