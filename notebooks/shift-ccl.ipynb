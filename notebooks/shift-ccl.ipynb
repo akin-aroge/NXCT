{
 "cells": [
  {
   "cell_type": "markdown",
   "id": "ecd8d9ac-b4b8-4c26-8b06-d18b6c0ebb63",
   "metadata": {
    "deletable": false,
    "editable": false,
    "tags": []
   },
   "source": [
    "# Shift CCL\n",
    "\n",
    "\n",
    "\n",
    "This notebook consists of cells that can be used to shift the cathode catalyst layer\n",
    "\n",
    "**Usage**: Click on the play button above and enter the relevant inputs when prompted, followed by the enter key.\n",
    "  \n",
    "**output**: a \".tif\" file with the CCL shifted as specified saved in the provided directory\n",
    "\n",
    "\n",
    "\n",
    "- author: Akin Aroge\n",
    "- email: arogeakindele@gmail.com\n",
    "- version: 0.1\n",
    "- created: 14-10-2022"
   ]
  },
  {
   "cell_type": "code",
   "execution_count": 10,
   "id": "7d2912ed-d05d-4726-a00d-e342cf88c1d1",
   "metadata": {
    "deletable": false,
    "tags": []
   },
   "outputs": [
    {
     "name": "stdin",
     "output_type": "stream",
     "text": [
      "Enter the containing folder of the image (full path): C:\\Users\\Aroge\\Desktop\\junk\n",
      "Enter the CCL file name (including extension, e.g 'image.tiff'): AnodeRemoved_alt.tif\n",
      "Enter the desired name for shifted file, with extension: filename.tif\n",
      "Enter the value of the shift:  30\n"
     ]
    },
    {
     "name": "stdout",
     "output_type": "stream",
     "text": [
      "image saved in folder: C:\\Users\\Aroge\\Desktop\\junk and named filename.tif \n"
     ]
    }
   ],
   "source": [
    "from skimage.io import imread, imsave\n",
    "import imaging as ig\n",
    "import os\n",
    "\n",
    "\n",
    "\n",
    "f_dir = str(input('Enter the containing folder of the image (full path):'))\n",
    "fname = str(input(\"Enter the CCL file name (including extension, e.g 'image.tiff'):\"))\n",
    "shifted_file_name = str(input(\"Enter the desired name for shifted file, with extension:\"))\n",
    "shift = int(input('Enter the value of the shift: '))\n",
    "\n",
    "\n",
    "im_path = os.path.join(f_dir, fname)\n",
    "im = imread(im_path)\n",
    "\n",
    "im_shifted = ig.select_tools.shift_ccl(im=im, shift=shift)\n",
    "\n",
    "imsave(os.path.join(f_dir, shifted_file_name), im_shifted)\n",
    "\n",
    "print(f\"image saved in folder: {f_dir} and named {shifted_file_name} \")"
   ]
  },
  {
   "cell_type": "code",
   "execution_count": null,
   "id": "ba062e76-d9e5-485d-a4eb-eca3285b11a2",
   "metadata": {},
   "outputs": [],
   "source": []
  }
 ],
 "metadata": {
  "kernelspec": {
   "display_name": "Python [conda env:phd-im] *",
   "language": "python",
   "name": "conda-env-phd-im-py"
  },
  "language_info": {
   "codemirror_mode": {
    "name": "ipython",
    "version": 3
   },
   "file_extension": ".py",
   "mimetype": "text/x-python",
   "name": "python",
   "nbconvert_exporter": "python",
   "pygments_lexer": "ipython3",
   "version": "3.7.10"
  }
 },
 "nbformat": 4,
 "nbformat_minor": 5
}
