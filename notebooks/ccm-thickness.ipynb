{
 "cells": [
  {
   "cell_type": "markdown",
   "id": "ecd8d9ac-b4b8-4c26-8b06-d18b6c0ebb63",
   "metadata": {
    "deletable": false,
    "editable": false,
    "tags": []
   },
   "source": [
    "# CCM Thickness\n",
    "\n",
    "\n",
    "\n",
    "This notebook consists of cells that can be used to estimate the thickness of the CCM given a segmentation of the CCM.\n",
    "\n",
    "**Usage**: Click on the play button above and enter the relevant inputs when prompted, followed by the enter key.\n",
    "  \n",
    "\n",
    "\n",
    "\n",
    "\n",
    "- author: Akin Aroge\n",
    "- email: arogeakindele@gmail.com\n",
    "- version: 0.1\n",
    "- created: 06-12-2023"
   ]
  },
  {
   "cell_type": "code",
   "execution_count": null,
   "id": "7d2912ed-d05d-4726-a00d-e342cf88c1d1",
   "metadata": {
    "deletable": false,
    "tags": []
   },
   "outputs": [],
   "source": [
    "from skimage.io import imread, imsave\n",
    "import imaging as ig\n",
    "import os\n",
    "\n",
    "\n",
    "\n",
    "f_dir = str(input('Enter the containing folder of the segmented catalyst layer  (full path):'))\n",
    "fname = str(input(\"Enter the file name (including extension, e.g 'image.tiff'). Image should be in throughplane slices:\"))\n",
    "px_val = float(input('Enter the pixel value (in micrometer):'))\n",
    "\n",
    "# f_dir = r'C:\\Users\\Aroge\\Documents\\Projects\\NXCT\\sample-files'\n",
    "# fname='sample-ccl-seg.tif'\n",
    "# px_val = 1.72\n",
    "\n",
    "\n",
    "im_path = os.path.join(f_dir, fname)\n",
    "im = imread(im_path)\n",
    "\n",
    "thk_mean, thk_std, t_map = ig.analysis.ccm_thickness(im, px_val=px_val)\n",
    "\n",
    "thick_map_fig = ig.tools.plot_im_map(t_map, px_val)\n",
    "\n",
    "saved_image_name = 'ccl_thickness_map.png'\n",
    "thick_map_fig.savefig(os.path.join(f_dir, saved_image_name))\n",
    "\n",
    "a = r\"[$\\mu m$]\"\n",
    "\n",
    "print(f\"mean thickness (micrometer): {thk_mean}  \\n standard deviation: {thk_std}\")\n",
    "\n",
    "print(f\"thickness image has been saved in folder: {f_dir} and named {saved_image_name} \")"
   ]
  }
 ],
 "metadata": {
  "kernelspec": {
   "display_name": "phd-im",
   "language": "python",
   "name": "python3"
  },
  "language_info": {
   "codemirror_mode": {
    "name": "ipython",
    "version": 3
   },
   "file_extension": ".py",
   "mimetype": "text/x-python",
   "name": "python",
   "nbconvert_exporter": "python",
   "pygments_lexer": "ipython3",
   "version": "3.7.10"
  }
 },
 "nbformat": 4,
 "nbformat_minor": 5
}
