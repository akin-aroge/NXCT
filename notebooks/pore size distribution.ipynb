{
 "cells": [
  {
   "cell_type": "markdown",
   "metadata": {
    "deletable": false,
    "editable": false,
    "tags": []
   },
   "source": [
    "# Calculate Diffusivity\n",
    "\n",
    "\n",
    "\n",
    "This notebook consists of cells that can be used to compute diffusivity values from a segmented image stack. \n",
    "A pore network is first extracted from the binar-ized iamge using the SNOW algorithm available in the porespy package and then the Fickian diffusion simulation is run to compute the diffusivity value\n",
    "\n",
    "**Usage**: Click on the play button above and enter the relevant inputs when prompted followed by the enter key.\n",
    "\n",
    "**input**:\n",
    "    - image: image should be in throughplane mode\n",
    "  \n",
    "**output**: a diffusivity value\n",
    "\n",
    "\n",
    "\n",
    "- author: Akin Aroge\n",
    "- email: arogeakindele@gmail.com\n",
    "- version: 0.1\n",
    "- created: 10-08-2023"
   ]
  },
  {
   "cell_type": "code",
   "execution_count": 6,
   "metadata": {
    "deletable": false,
    "editable": false,
    "tags": []
   },
   "outputs": [
    {
     "name": "stderr",
     "output_type": "stream",
     "text": [
      "------------------------------------------------------------\n",
      "WARNING    : TiffPage 0: TypeError: read_bytes() missing 3 required positional arguments: 'dtype', 'count', and 'offsetsize' \n",
      "SOURCE     : tifffile.tifffile.log_warning \n",
      "TIME STAMP : 2024-06-26 15:27:58,237\n",
      "------------------------------------------------------------\n"
     ]
    },
    {
     "name": "stdout",
     "output_type": "stream",
     "text": [
      "------------------------------------------------------------\n",
      "Beginning SNOW Algorithm\n",
      "Converting supplied image (im) to boolean\n",
      "Peforming Distance Transform\n",
      "Applying Gaussian blur with sigma = 0.4\n",
      "Initial number of peaks:  2488\n",
      "Peaks after trimming saddle points:  471\n",
      "Peaks after trimming nearby peaks:  471\n",
      "------------------------------------------------------------\n",
      "Extracting pore and throat information from image\n",
      "100%|██████████| 835/835 [00:07<00:00, 108.91it/s]\n"
     ]
    }
   ],
   "source": [
    "\n",
    "from pathlib import Path\n",
    "from skimage.io import imread\n",
    "import numpy as np\n",
    "from pnm_utils import compute_psd\n",
    "\n",
    "im_file_dir = str(input('Enter the containing folder of the image (full path):'))\n",
    "im_file_name = str(input(\"Enter the file name (including extension, e.g 'image.tiff'):\"))\n",
    "pore_phase_val = int(input('Enter the value of the pore phase pixels: '))\n",
    "pixel_size = float((input('Enter pixel size of the image:')))\n",
    "\n",
    "\n",
    "# im_file_dir = r'C:\\Users\\Aroge\\Documents\\Projects\\NXCT\\sample-files'\n",
    "# im_file_name = r'small-sample-rois-1.tif'\n",
    "# #im_path = r'C:\\Users\\Yadvinder\\Documents\\Akin-Aroge\\code\\sample-files\\sample-rois-file.tif'\n",
    "# result_dir = r'C:\\Users\\Aroge\\Documents\\Projects\\NXCT\\sample-files\\psd.csv'\n",
    "# pore_phase_val = 0\n",
    "# # water_phase_val = 2\n",
    "# pixel_size = 1.54\n",
    "\n",
    "im_path = Path.joinpath(Path(im_file_dir), Path(im_file_name))\n",
    "im = imread(im_path, plugin='tifffile' )  # read image\n",
    "\n",
    "pore_diams = compute_psd(im=im, pixel_size=pixel_size)\n",
    "\n",
    "# save pore diameters\n",
    "result_fname = 'psd.csv'\n",
    "\n",
    "np.savetxt(Path.joinpath(Path(im_file_dir), Path(result_fname)), pore_diams, delimiter=',')\n",
    "\n"
   ]
  }
 ],
 "metadata": {
  "kernelspec": {
   "display_name": "phd-im",
   "language": "python",
   "name": "python3"
  },
  "language_info": {
   "codemirror_mode": {
    "name": "ipython",
    "version": 3
   },
   "file_extension": ".py",
   "mimetype": "text/x-python",
   "name": "python",
   "nbconvert_exporter": "python",
   "pygments_lexer": "ipython3",
   "version": "3.7.10"
  },
  "orig_nbformat": 4
 },
 "nbformat": 4,
 "nbformat_minor": 2
}
