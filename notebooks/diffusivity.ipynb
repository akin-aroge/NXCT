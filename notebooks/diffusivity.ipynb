{
 "cells": [
  {
   "cell_type": "markdown",
   "metadata": {
    "deletable": false,
    "editable": false,
    "tags": []
   },
   "source": [
    "# Calculate Diffusivity\n",
    "\n",
    "\n",
    "\n",
    "This notebook consists of cells that can be used to compute diffusivity values from a segmented image stack. \n",
    "A pore network is first extracted from the binar-ized iamge using the SNOW algorithm available in the porespy package and then the Fickian diffusion simulation is run to compute the diffusivity value\n",
    "\n",
    "**Usage**: Click on the play button above and enter the relevant inputs when prompted followed by the enter key.\n",
    "\n",
    "**input**:\n",
    "    - image: image should be in throughplane mode\n",
    "  \n",
    "**output**: a diffusivity value\n",
    "\n",
    "\n",
    "\n",
    "- author: Akin Aroge\n",
    "- email: arogeakindele@gmail.com\n",
    "- version: 0.1\n",
    "- created: 10-08-2023"
   ]
  },
  {
   "cell_type": "code",
   "execution_count": 1,
   "metadata": {
    "deletable": false,
    "editable": false,
    "tags": []
   },
   "outputs": [
    {
     "name": "stderr",
     "output_type": "stream",
     "text": [
      "------------------------------------------------------------\n",
      "WARNING    : TiffPage 0: TypeError: read_bytes() missing 3 required positional arguments: 'dtype', 'count', and 'offsetsize' \n",
      "SOURCE     : tifffile.tifffile.log_warning \n",
      "TIME STAMP : 2024-10-18 14:34:24,366\n",
      "------------------------------------------------------------\n"
     ]
    },
    {
     "name": "stdout",
     "output_type": "stream",
     "text": [
      "------------------------------------------------------------\n",
      "Beginning SNOW Algorithm\n",
      "Converting supplied image (im) to boolean\n",
      "Peforming Distance Transform\n",
      "Applying Gaussian blur with sigma = 0.4\n",
      "Initial number of peaks:  2088\n",
      "Peaks after trimming saddle points:  544\n",
      "Peaks after trimming nearby peaks:  543\n",
      "------------------------------------------------------------\n",
      "Extracting pore and throat information from image\n",
      "100%|██████████| 963/963 [00:12<00:00, 76.06it/s] \n",
      "\n",
      " \n",
      " Effective Diffusivity = 2.2144508407815786e-06 $m^2/s$ \n"
     ]
    }
   ],
   "source": [
    "\n",
    "from pathlib import Path\n",
    "from skimage.io import imread\n",
    "from pnm_utils import get_tomo_diffusivity\n",
    "\n",
    "im_file_dir = str(input('Enter the containing folder of the image (full path):'))\n",
    "im_file_name = str(input(\"Enter the file name (including extension, e.g 'image.tiff'):\"))\n",
    "pore_phase_val = int(input('Enter the value of the pore phase pixels: '))\n",
    "pixel_size = float((input('Enter pixel size of the image:')))\n",
    "\n",
    "im_path = Path.joinpath(Path(im_file_dir), Path(im_file_name))\n",
    "im = imread(im_path, plugin='tifffile' )  # read image\n",
    "diff = get_tomo_diffusivity(im_data=im, pore_phase_value=0, pixel_size=1.54)\n",
    "\n",
    "print(f\"\\n \\n Effective Diffusivity = {diff} $m^2/s$ \")"
   ]
  },
  {
   "cell_type": "code",
   "execution_count": null,
   "metadata": {},
   "outputs": [],
   "source": []
  }
 ],
 "metadata": {
  "kernelspec": {
   "display_name": "phd-im",
   "language": "python",
   "name": "python3"
  },
  "language_info": {
   "codemirror_mode": {
    "name": "ipython",
    "version": 3
   },
   "file_extension": ".py",
   "mimetype": "text/x-python",
   "name": "python",
   "nbconvert_exporter": "python",
   "pygments_lexer": "ipython3",
   "version": "3.7.10"
  },
  "orig_nbformat": 4
 },
 "nbformat": 4,
 "nbformat_minor": 2
}
