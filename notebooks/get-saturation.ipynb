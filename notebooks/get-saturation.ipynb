{
 "cells": [
  {
   "cell_type": "markdown",
   "id": "546348a7-92ef-4f8d-90bd-585e8f2f69af",
   "metadata": {
    "deletable": false,
    "editable": false,
    "tags": []
   },
   "source": [
    "# Calculate Saturation\n",
    "\n",
    "\n",
    "\n",
    "This notebook consists of cells that can be used to compute saturation values from a segmented image stack. \n",
    "\n",
    "**Usage**: Click on the play button above and enter the relevant inputs when prompted followed by the enter key.\n",
    "  \n",
    "**output**: a csv file containing computed saturation values for each slice is saved in the image folder \n",
    "\n",
    "\n",
    "\n",
    "- author: Akin Aroge\n",
    "- email: arogeakindele@gmail.com\n",
    "- version: 0.1\n",
    "- created: 27-04-2022"
   ]
  },
  {
   "cell_type": "code",
   "execution_count": null,
   "id": "2dc10c7b-82f0-40ee-a1f8-6937586eef4e",
   "metadata": {
    "deletable": false,
    "editable": false,
    "tags": []
   },
   "outputs": [],
   "source": [
    "# do not edit\n",
    "import imaging as ig\n",
    "import numpy as np\n",
    "import os\n",
    "import pandas as pd\n",
    "from skimage.io import imread, imsave\n",
    "import matplotlib.pyplot as plt\n",
    "import seaborn as sns\n",
    "\n",
    "sns.set_style(\"whitegrid\")\n",
    "\n",
    "\n",
    "%matplotlib inline\n",
    "%load_ext autoreload\n",
    "%autoreload 2\n",
    "plt.rcParams['font.size'] = 14\n",
    "plt.rcParams['figure.figsize'] = 8, 6\n",
    "\n",
    "## Fill in the required inputs\n",
    "\n",
    "f_dir = str(input('Enter the containing folder of the image:'))\n",
    "fname = str(input(\"Enter the file name (including extension, e.g 'image.tiff'):\"))\n",
    "air_phase_val = int(input('Enter the value of the air phase pixels:'))\n",
    "water_phase_val = int(input('Enter the value of the water phase pixels: '))\n",
    "pixel_size = float((input('Enter pixel size of the image:')))\n",
    "mea_axis = str(input(\"Enter the mea axis for saturation. \\\n",
    "                 Enter z for through-plane,\\\n",
    "                 x for across the plane, \\\n",
    "                 y for top to bottom:\"))\n",
    "\n",
    "# f_dir = r'C:\\Users\\Yadvinder\\Documents\\Akin-Aroge\\code\\sample-files'\n",
    "# fname = r'sample-rois-file.tif'\n",
    "# #im_path = r'C:\\Users\\Yadvinder\\Documents\\Akin-Aroge\\code\\sample-files\\sample-rois-file.tif'\n",
    "# result_dir = r'C:\\Users\\Yadvinder\\Documents\\Akin-Aroge\\code\\sample-files'\n",
    "# air_phase_val = 0\n",
    "# water_phase_val = 2\n",
    "# pixel_size = 1.54\n",
    "# mea_axis = 'z'\n",
    "\n",
    "im_path = os.path.join(f_dir, fname)\n",
    "im = imread(os.path.normpath(im_path))\n",
    "sats = ig.tools.get_saturation(im, air_phase_val=air_phase_val, \n",
    "                              sat_phase_val=water_phase_val, ax=mea_axis)\n",
    "\n",
    "slice_num = np.arange(len(sats))+1\n",
    "slice_position = slice_num*pixel_size\n",
    "# save data\n",
    "data = pd.DataFrame({'slice-number':slice_num,\n",
    "            'sauration': sats})\n",
    "\n",
    "result_fname = 'saturation-data.csv'\n",
    "\n",
    "data.to_csv(os.path.join(f_dir, result_fname), index=False)\n",
    "\n",
    "# plot\n",
    "fig, ax = plt.subplots()\n",
    "ax.plot(slice_num, sats, '.-')\n",
    "ax.set_ylabel('saturation');\n",
    "ax.set_xlabel('slice number');"
   ]
  },
  {
   "cell_type": "code",
   "execution_count": null,
   "id": "68441fd2-a604-4a78-b6f3-ce8a6f9f088f",
   "metadata": {},
   "outputs": [],
   "source": []
  }
 ],
 "metadata": {
  "kernelspec": {
   "display_name": "phd-im",
   "language": "python",
   "name": "python3"
  },
  "language_info": {
   "codemirror_mode": {
    "name": "ipython",
    "version": 3
   },
   "file_extension": ".py",
   "mimetype": "text/x-python",
   "name": "python",
   "nbconvert_exporter": "python",
   "pygments_lexer": "ipython3",
   "version": "3.7.10"
  }
 },
 "nbformat": 4,
 "nbformat_minor": 5
}
